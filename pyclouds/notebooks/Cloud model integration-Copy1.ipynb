{
 "cells": [
  {
   "cell_type": "code",
   "execution_count": null,
   "metadata": {
    "collapsed": true
   },
   "outputs": [],
   "source": [
    "import numpy as np\n",
    "import matplotlib.pyplot as plot\n",
    "%matplotlib inline"
   ]
  },
  {
   "cell_type": "markdown",
   "metadata": {},
   "source": [
    "# Ambient state"
   ]
  },
  {
   "cell_type": "code",
   "execution_count": null,
   "metadata": {
    "collapsed": false
   },
   "outputs": [],
   "source": [
    "from pycfd.reference.atmospheric_flow import stratification_profiles, saturation_calculation\n",
    "\n",
    "ambient_stratification = stratification_profiles.Soong1973Dry()\n",
    "T_e = lambda z: ambient_stratification.temp(z)\n",
    "p_e = ambient_stratification.p"
   ]
  },
  {
   "cell_type": "markdown",
   "metadata": {},
   "source": [
    "# Model integration"
   ]
  },
  {
   "cell_type": "code",
   "execution_count": null,
   "metadata": {
    "collapsed": false
   },
   "outputs": [],
   "source": [
    "import odespy, numpy\n",
    "from pyclouds import cloud_equations, plotting, cloud_microphysics"
   ]
  },
  {
   "cell_type": "code",
   "execution_count": null,
   "metadata": {
    "collapsed": false
   },
   "outputs": [],
   "source": [
    "g = ambient_stratification.g\n",
    "R_d = ambient_stratification.gas_properties.R()\n",
    "cp_d = ambient_stratification.gas_properties.cp()\n",
    "\n",
    "environment = {'T_e': T_e, 'p_e': p_e, 'rho': ambient_stratification.rho, }\n",
    "constants = {'R_d': R_d, 'cp_d': cp_d, 'g': g }"
   ]
  },
  {
   "cell_type": "code",
   "execution_count": null,
   "metadata": {
    "collapsed": false
   },
   "outputs": [],
   "source": [
    "z_points = numpy.linspace(100., 4e3, 500)\n",
    "\n",
    "w0 = 0.1\n",
    "T0 = T_e(0.0) + 0.2\n",
    "# p, r, w, T, q_v, q_r, q_l, q_i\n",
    "initial_condition = [101325.0, 500.0, w0, T0, 0.00, 0., 0., 0.]"
   ]
  },
  {
   "cell_type": "code",
   "execution_count": null,
   "metadata": {
    "collapsed": false
   },
   "outputs": [],
   "source": [
    "microphysics = cloud_microphysics.MoistAdjustmentMicrophysics()\n",
    "cloud_model = cloud_equations.FullThermodynamicsCloudEquations(environment=environment, constants=constants, gamma=1.4, D=1.0, beta=0.2, microphysics=microphysics)\n",
    "F, z = cloud_model.integrate(initial_condition, z_points)\n",
    "plotting.profile_plot(F, z, Te=T_e)"
   ]
  },
  {
   "cell_type": "code",
   "execution_count": null,
   "metadata": {
    "collapsed": false
   },
   "outputs": [],
   "source": []
  },
  {
   "cell_type": "code",
   "execution_count": null,
   "metadata": {
    "collapsed": true
   },
   "outputs": [],
   "source": []
  },
  {
   "cell_type": "code",
   "execution_count": null,
   "metadata": {
    "collapsed": true
   },
   "outputs": [],
   "source": []
  }
 ],
 "metadata": {
  "kernelspec": {
   "display_name": "Python 2",
   "language": "python",
   "name": "python2"
  },
  "language_info": {
   "codemirror_mode": {
    "name": "ipython",
    "version": 2
   },
   "file_extension": ".py",
   "mimetype": "text/x-python",
   "name": "python",
   "nbconvert_exporter": "python",
   "pygments_lexer": "ipython2",
   "version": "2.7.3"
  }
 },
 "nbformat": 4,
 "nbformat_minor": 0
}
