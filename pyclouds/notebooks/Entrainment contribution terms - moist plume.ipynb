{
 "cells": [
  {
   "cell_type": "code",
   "execution_count": 1,
   "metadata": {
    "collapsed": true
   },
   "outputs": [],
   "source": [
    "from pycfd.reference.atmospheric_flow import stratification_profiles, saturation_calculation\n",
    "from pyclouds.common import Var, default_constants\n",
    "from pyclouds import cloud_equations, plotting, cloud_microphysics\n",
    "\n",
    "import odespy, numpy as np\n",
    "\n",
    "%matplotlib inline"
   ]
  },
  {
   "cell_type": "code",
   "execution_count": 2,
   "metadata": {
    "collapsed": true
   },
   "outputs": [],
   "source": [
    "ambient_stratification = stratification_profiles.Soong1973Dry()\n",
    "constants = default_constants"
   ]
  },
  {
   "cell_type": "code",
   "execution_count": 3,
   "metadata": {
    "collapsed": false
   },
   "outputs": [],
   "source": [
    "z_points = np.linspace(100., 4e3, 500)\n",
    "\n",
    "w0 = 0.1\n",
    "dT = 0.2\n",
    "T0 = ambient_stratification.temp(0.0) + dT"
   ]
  },
  {
   "cell_type": "code",
   "execution_count": 4,
   "metadata": {
    "collapsed": false
   },
   "outputs": [
    {
     "name": "stderr",
     "output_type": "stream",
     "text": [
      "/home/zmaw/m300464/pytools/pyclouds/parameterisations.py:170: UserWarning: Using default value for a1_ice\n",
      "  warnings.warn(\"Using default value for %s\" % c_name)\n",
      "/home/zmaw/m300464/pytools/pyclouds/parameterisations.py:170: UserWarning: Using default value for a0_ice\n",
      "  warnings.warn(\"Using default value for %s\" % c_name)\n",
      "/home/zmaw/m300464/pytools/pyclouds/parameterisations.py:170: UserWarning: Using default value for b_K\n",
      "  warnings.warn(\"Using default value for %s\" % c_name)\n",
      "/home/zmaw/m300464/pytools/pyclouds/parameterisations.py:170: UserWarning: Using default value for a_K\n",
      "  warnings.warn(\"Using default value for %s\" % c_name)\n"
     ]
    },
    {
     "ename": "TypeError",
     "evalue": "ufunc 'add' output (typecode 'O') could not be coerced to provided output parameter (typecode 'd') according to the casting rule ''same_kind''",
     "output_type": "error",
     "traceback": [
      "\u001b[1;31m---------------------------------------------------------------------------\u001b[0m",
      "\u001b[1;31mTypeError\u001b[0m                                 Traceback (most recent call last)",
      "\u001b[1;32m<ipython-input-4-e0b76c82246b>\u001b[0m in \u001b[0;36m<module>\u001b[1;34m()\u001b[0m\n\u001b[0;32m      8\u001b[0m \u001b[1;33m\u001b[0m\u001b[0m\n\u001b[0;32m      9\u001b[0m \u001b[0minitial_condition\u001b[0m \u001b[1;33m=\u001b[0m \u001b[0mVar\u001b[0m\u001b[1;33m.\u001b[0m\u001b[0mmake_state\u001b[0m\u001b[1;33m(\u001b[0m\u001b[0mr\u001b[0m\u001b[1;33m=\u001b[0m\u001b[1;36m500.0\u001b[0m\u001b[1;33m,\u001b[0m \u001b[0mw\u001b[0m\u001b[1;33m=\u001b[0m\u001b[0mw0\u001b[0m\u001b[1;33m,\u001b[0m \u001b[0mT\u001b[0m\u001b[1;33m=\u001b[0m\u001b[0mT0\u001b[0m\u001b[1;33m)\u001b[0m\u001b[1;33m\u001b[0m\u001b[0m\n\u001b[1;32m---> 10\u001b[1;33m \u001b[0mp1\u001b[0m \u001b[1;33m=\u001b[0m \u001b[0mcloud_model\u001b[0m\u001b[1;33m.\u001b[0m\u001b[0mintegrate\u001b[0m\u001b[1;33m(\u001b[0m\u001b[0minitial_condition\u001b[0m\u001b[1;33m,\u001b[0m \u001b[0mz_points\u001b[0m\u001b[1;33m)\u001b[0m\u001b[1;33m\u001b[0m\u001b[0m\n\u001b[0m\u001b[0;32m     11\u001b[0m \u001b[0mp\u001b[0m \u001b[1;33m=\u001b[0m \u001b[0mp1\u001b[0m\u001b[1;33m.\u001b[0m\u001b[0mplot\u001b[0m\u001b[1;33m(\u001b[0m\u001b[1;33m)\u001b[0m\u001b[1;33m\u001b[0m\u001b[0m\n",
      "\u001b[1;32m/home/zmaw/m300464/pytools/pyclouds/cloud_equations.py\u001b[0m in \u001b[0;36mintegrate\u001b[1;34m(self, initial_condition, z, SolverClass, stopping_criterion, tolerance)\u001b[0m\n\u001b[0;32m     63\u001b[0m         \u001b[1;32mif\u001b[0m \u001b[0mstopping_criterion\u001b[0m \u001b[1;32mis\u001b[0m \u001b[0mNone\u001b[0m\u001b[1;33m:\u001b[0m\u001b[1;33m\u001b[0m\u001b[0m\n\u001b[0;32m     64\u001b[0m             \u001b[0mstopping_criterion\u001b[0m\u001b[1;33m=\u001b[0m\u001b[0mself\u001b[0m\u001b[1;33m.\u001b[0m\u001b[0m_stopping_criterion\u001b[0m\u001b[1;33m\u001b[0m\u001b[0m\n\u001b[1;32m---> 65\u001b[1;33m         \u001b[0mF\u001b[0m\u001b[1;33m,\u001b[0m \u001b[0mz\u001b[0m \u001b[1;33m=\u001b[0m \u001b[0msolver\u001b[0m\u001b[1;33m.\u001b[0m\u001b[0msolve\u001b[0m\u001b[1;33m(\u001b[0m\u001b[0mz\u001b[0m\u001b[1;33m,\u001b[0m \u001b[0mstopping_criterion\u001b[0m\u001b[1;33m,\u001b[0m\u001b[1;33m)\u001b[0m\u001b[1;33m\u001b[0m\u001b[0m\n\u001b[0m\u001b[0;32m     66\u001b[0m \u001b[1;33m\u001b[0m\u001b[0m\n\u001b[0;32m     67\u001b[0m         \u001b[0mF\u001b[0m \u001b[1;33m=\u001b[0m \u001b[0mF\u001b[0m\u001b[1;33m[\u001b[0m\u001b[1;33m:\u001b[0m\u001b[1;33m-\u001b[0m\u001b[1;36m2\u001b[0m\u001b[1;33m]\u001b[0m\u001b[1;33m\u001b[0m\u001b[0m\n",
      "\u001b[1;32m/home/zmaw/m300464/src/odespy/odespy/solvers.pyc\u001b[0m in \u001b[0;36msolve\u001b[1;34m(self, time_points, terminate)\u001b[0m\n\u001b[0;32m   1036\u001b[0m         \u001b[0mself\u001b[0m\u001b[1;33m.\u001b[0m\u001b[0mt\u001b[0m \u001b[1;33m=\u001b[0m \u001b[0mnp\u001b[0m\u001b[1;33m.\u001b[0m\u001b[0masarray\u001b[0m\u001b[1;33m(\u001b[0m\u001b[0mtime_points\u001b[0m\u001b[1;33m)\u001b[0m\u001b[1;33m\u001b[0m\u001b[0m\n\u001b[0;32m   1037\u001b[0m         \u001b[0mself\u001b[0m\u001b[1;33m.\u001b[0m\u001b[0mn\u001b[0m \u001b[1;33m=\u001b[0m \u001b[1;36m0\u001b[0m  \u001b[1;31m# time step counter\u001b[0m\u001b[1;33m\u001b[0m\u001b[0m\n\u001b[1;32m-> 1038\u001b[1;33m         \u001b[0mself\u001b[0m\u001b[1;33m.\u001b[0m\u001b[0minitialize_for_solve\u001b[0m\u001b[1;33m(\u001b[0m\u001b[1;33m)\u001b[0m\u001b[1;33m\u001b[0m\u001b[0m\n\u001b[0m\u001b[0;32m   1039\u001b[0m         \u001b[0mself\u001b[0m\u001b[1;33m.\u001b[0m\u001b[0mvalidate_data\u001b[0m\u001b[1;33m(\u001b[0m\u001b[1;33m)\u001b[0m\u001b[1;33m\u001b[0m\u001b[0m\n\u001b[0;32m   1040\u001b[0m \u001b[1;33m\u001b[0m\u001b[0m\n",
      "\u001b[1;32m/home/zmaw/m300464/src/odespy/odespy/solvers.pyc\u001b[0m in \u001b[0;36minitialize_for_solve\u001b[1;34m(self)\u001b[0m\n\u001b[0;32m   2299\u001b[0m             \u001b[1;31m# Use 10 times the user's greatest step\u001b[0m\u001b[1;33m\u001b[0m\u001b[1;33m\u001b[0m\u001b[0m\n\u001b[0;32m   2300\u001b[0m             \u001b[0mself\u001b[0m\u001b[1;33m.\u001b[0m\u001b[0mset\u001b[0m\u001b[1;33m(\u001b[0m\u001b[0mmax_step\u001b[0m\u001b[1;33m=\u001b[0m\u001b[1;36m10\u001b[0m\u001b[1;33m*\u001b[0m\u001b[0mtime_steps\u001b[0m\u001b[1;33m.\u001b[0m\u001b[0mmax\u001b[0m\u001b[1;33m(\u001b[0m\u001b[1;33m)\u001b[0m\u001b[1;33m)\u001b[0m\u001b[1;33m\u001b[0m\u001b[0m\n\u001b[1;32m-> 2301\u001b[1;33m         \u001b[0mSolver\u001b[0m\u001b[1;33m.\u001b[0m\u001b[0minitialize_for_solve\u001b[0m\u001b[1;33m(\u001b[0m\u001b[0mself\u001b[0m\u001b[1;33m)\u001b[0m\u001b[1;33m\u001b[0m\u001b[0m\n\u001b[0m\u001b[0;32m   2302\u001b[0m \u001b[1;33m\u001b[0m\u001b[0m\n\u001b[0;32m   2303\u001b[0m         \u001b[1;32mif\u001b[0m \u001b[1;32mnot\u001b[0m \u001b[0mself\u001b[0m\u001b[1;33m.\u001b[0m\u001b[0mdisk_storage\u001b[0m\u001b[1;33m:\u001b[0m\u001b[1;33m\u001b[0m\u001b[0m\n",
      "\u001b[1;32m/home/zmaw/m300464/src/odespy/odespy/solvers.pyc\u001b[0m in \u001b[0;36minitialize_for_solve\u001b[1;34m(self)\u001b[0m\n\u001b[0;32m   1086\u001b[0m             \u001b[1;32mif\u001b[0m \u001b[0mself\u001b[0m\u001b[1;33m.\u001b[0m\u001b[0mverbose\u001b[0m \u001b[1;33m>\u001b[0m \u001b[1;36m0\u001b[0m\u001b[1;33m:\u001b[0m\u001b[1;33m\u001b[0m\u001b[0m\n\u001b[0;32m   1087\u001b[0m                 \u001b[1;32mprint\u001b[0m \u001b[1;34m'Calling f(U0, %g) to determine data type'\u001b[0m \u001b[1;33m%\u001b[0m \u001b[0mself\u001b[0m\u001b[1;33m.\u001b[0m\u001b[0mt\u001b[0m\u001b[1;33m[\u001b[0m\u001b[1;36m0\u001b[0m\u001b[1;33m]\u001b[0m\u001b[1;33m\u001b[0m\u001b[0m\n\u001b[1;32m-> 1088\u001b[1;33m             \u001b[0mvalue\u001b[0m \u001b[1;33m=\u001b[0m \u001b[0mnp\u001b[0m\u001b[1;33m.\u001b[0m\u001b[0marray\u001b[0m\u001b[1;33m(\u001b[0m\u001b[0mself\u001b[0m\u001b[1;33m.\u001b[0m\u001b[0mf\u001b[0m\u001b[1;33m(\u001b[0m\u001b[0mself\u001b[0m\u001b[1;33m.\u001b[0m\u001b[0mU0\u001b[0m\u001b[1;33m,\u001b[0m \u001b[0mself\u001b[0m\u001b[1;33m.\u001b[0m\u001b[0mt\u001b[0m\u001b[1;33m[\u001b[0m\u001b[1;36m0\u001b[0m\u001b[1;33m]\u001b[0m\u001b[1;33m)\u001b[0m\u001b[1;33m)\u001b[0m\u001b[1;33m\u001b[0m\u001b[0m\n\u001b[0m\u001b[0;32m   1089\u001b[0m         \u001b[1;32melse\u001b[0m\u001b[1;33m:\u001b[0m\u001b[1;33m\u001b[0m\u001b[0m\n\u001b[0;32m   1090\u001b[0m             \u001b[0mvalue\u001b[0m \u001b[1;33m=\u001b[0m \u001b[0mnp\u001b[0m\u001b[1;33m.\u001b[0m\u001b[0masarray\u001b[0m\u001b[1;33m(\u001b[0m\u001b[0mself\u001b[0m\u001b[1;33m.\u001b[0m\u001b[0mU0\u001b[0m\u001b[1;33m)\u001b[0m\u001b[1;33m\u001b[0m\u001b[0m\n",
      "\u001b[1;32m/home/zmaw/m300464/src/odespy/odespy/solvers.pyc\u001b[0m in \u001b[0;36m<lambda>\u001b[1;34m(u, t)\u001b[0m\n\u001b[0;32m    654\u001b[0m             \u001b[1;32mif\u001b[0m \u001b[1;34m'f_args'\u001b[0m \u001b[1;32min\u001b[0m \u001b[0mself\u001b[0m\u001b[1;33m.\u001b[0m\u001b[0m_optional_parameters\u001b[0m\u001b[1;33m:\u001b[0m\u001b[1;33m\u001b[0m\u001b[0m\n\u001b[0;32m    655\u001b[0m                 \u001b[0mself\u001b[0m\u001b[1;33m.\u001b[0m\u001b[0mf\u001b[0m \u001b[1;33m=\u001b[0m \u001b[1;32mlambda\u001b[0m \u001b[0mu\u001b[0m\u001b[1;33m,\u001b[0m \u001b[0mt\u001b[0m\u001b[1;33m:\u001b[0m\u001b[0;31m \u001b[0m\u001b[0;31m \u001b[0m\u001b[0;31m\\\u001b[0m\u001b[1;33m\u001b[0m\u001b[0m\n\u001b[1;32m--> 656\u001b[1;33m                     \u001b[0mnp\u001b[0m\u001b[1;33m.\u001b[0m\u001b[0masarray\u001b[0m\u001b[1;33m(\u001b[0m\u001b[0mf\u001b[0m\u001b[1;33m(\u001b[0m\u001b[0mu\u001b[0m\u001b[1;33m,\u001b[0m \u001b[0mt\u001b[0m\u001b[1;33m,\u001b[0m \u001b[1;33m*\u001b[0m\u001b[0mself\u001b[0m\u001b[1;33m.\u001b[0m\u001b[0mf_args\u001b[0m\u001b[1;33m,\u001b[0m \u001b[1;33m**\u001b[0m\u001b[0mself\u001b[0m\u001b[1;33m.\u001b[0m\u001b[0mf_kwargs\u001b[0m\u001b[1;33m)\u001b[0m\u001b[1;33m)\u001b[0m\u001b[1;33m\u001b[0m\u001b[0m\n\u001b[0m\u001b[0;32m    657\u001b[0m             \u001b[1;32melse\u001b[0m\u001b[1;33m:\u001b[0m\u001b[1;33m\u001b[0m\u001b[0m\n\u001b[0;32m    658\u001b[0m                 \u001b[0mself\u001b[0m\u001b[1;33m.\u001b[0m\u001b[0mf\u001b[0m \u001b[1;33m=\u001b[0m \u001b[1;32mlambda\u001b[0m \u001b[0mu\u001b[0m\u001b[1;33m,\u001b[0m \u001b[0mt\u001b[0m\u001b[1;33m:\u001b[0m \u001b[0mnp\u001b[0m\u001b[1;33m.\u001b[0m\u001b[0masarray\u001b[0m\u001b[1;33m(\u001b[0m\u001b[0mf\u001b[0m\u001b[1;33m(\u001b[0m\u001b[0mu\u001b[0m\u001b[1;33m,\u001b[0m\u001b[0mt\u001b[0m\u001b[1;33m)\u001b[0m\u001b[1;33m)\u001b[0m\u001b[1;33m\u001b[0m\u001b[0m\n",
      "\u001b[1;32m/home/zmaw/m300464/pytools/pyclouds/cloud_equations.py\u001b[0m in \u001b[0;36mdFdz\u001b[1;34m(self, F, z)\u001b[0m\n\u001b[0;32m    501\u001b[0m         \u001b[1;31m# 3. estimate new state from phase changes predicted by microphysics\u001b[0m\u001b[1;33m\u001b[0m\u001b[1;33m\u001b[0m\u001b[0m\n\u001b[0;32m    502\u001b[0m         \u001b[0mdFdz_micro\u001b[0m \u001b[1;33m=\u001b[0m \u001b[0mself\u001b[0m\u001b[1;33m.\u001b[0m\u001b[0mmicrophysics\u001b[0m\u001b[1;33m(\u001b[0m\u001b[0mF\u001b[0m\u001b[1;33m,\u001b[0m \u001b[0mp\u001b[0m\u001b[1;33m=\u001b[0m\u001b[0mp\u001b[0m\u001b[1;33m)\u001b[0m\u001b[1;33m\u001b[0m\u001b[0m\n\u001b[1;32m--> 503\u001b[1;33m         \u001b[0mdFdz_\u001b[0m \u001b[1;33m+=\u001b[0m \u001b[0mdFdz_micro\u001b[0m\u001b[1;33m\u001b[0m\u001b[0m\n\u001b[0m\u001b[0;32m    504\u001b[0m \u001b[1;33m\u001b[0m\u001b[0m\n\u001b[0;32m    505\u001b[0m         \u001b[0mdql_c__dz\u001b[0m \u001b[1;33m=\u001b[0m \u001b[0mF_s\u001b[0m\u001b[1;33m[\u001b[0m\u001b[0mVar\u001b[0m\u001b[1;33m.\u001b[0m\u001b[0mq_l\u001b[0m\u001b[1;33m]\u001b[0m \u001b[1;33m-\u001b[0m \u001b[0mF\u001b[0m\u001b[1;33m[\u001b[0m\u001b[0mVar\u001b[0m\u001b[1;33m.\u001b[0m\u001b[0mq_l\u001b[0m\u001b[1;33m]\u001b[0m\u001b[1;33m\u001b[0m\u001b[0m\n",
      "\u001b[1;31mTypeError\u001b[0m: ufunc 'add' output (typecode 'O') could not be coerced to provided output parameter (typecode 'd') according to the casting rule ''same_kind''"
     ]
    }
   ],
   "source": [
    "beta = 0.2\n",
    "gamma = 1.0\n",
    "\n",
    "microphysics = cloud_microphysics.FiniteCondensationTimeMicrophysics()\n",
    "cloud_model = cloud_equations.FullThermodynamicsCloudEquations(environment=ambient_stratification, \n",
    "                                                               constants=constants, D=2., gamma=gamma, beta=beta,\n",
    "                                                              microphysics=microphysics,)\n",
    "\n",
    "initial_condition = Var.make_state(r=500.0, w=w0, T=T0)\n",
    "p1 = cloud_model.integrate(initial_condition, z_points)\n",
    "p = p1.plot()"
   ]
  },
  {
   "cell_type": "code",
   "execution_count": null,
   "metadata": {
    "collapsed": true
   },
   "outputs": [],
   "source": [
    "r = p1.F[:,Var.r]\n",
    "Tc = p1.F[:,Var.T]\n",
    "w = p1.F[:,Var.w]\n",
    "z = p1.z"
   ]
  },
  {
   "cell_type": "markdown",
   "metadata": {},
   "source": [
    "# Continuity equation"
   ]
  },
  {
   "cell_type": "code",
   "execution_count": null,
   "metadata": {
    "collapsed": false
   },
   "outputs": [],
   "source": [
    "inv_f_dfdz = lambda f, z: 1./(.5*(f[1:] + f[:-1]))*(f[1:]-f[:-1])/(z[1:]-z[:-1])\n",
    "\n",
    "x1 = 2.*inv_f_dfdz(r, z)\n",
    "x2 = 1.*inv_f_dfdz(w, z)\n",
    "x3 = -1.0*inv_f_dfdz(Tc, z)\n",
    "x4 = -g/(R_d*.5*(Tc[1:] + Tc[:-1]))"
   ]
  },
  {
   "cell_type": "code",
   "execution_count": null,
   "metadata": {
    "collapsed": false
   },
   "outputs": [],
   "source": [
    "import matplotlib.pyplot as plot\n",
    "import matplotlib as mpl\n",
    "mpl.rc(\"savefig\", dpi=80)\n",
    "\n",
    "inv_f_dfdz__label = lambda v: r\"$\\frac{1}{%s}\\ \\frac{d%s}{dz}$\" % (v, v)\n",
    "\n",
    "z_ = 0.5*(z[1:] + z[:-1])\n",
    "r_ = 0.5*(r[1:] + r[:-1])\n",
    "\n",
    "plot.figure(figsize=(18,10))\n",
    "plot.subplot(121)\n",
    "plot.plot(x1, z_, label=r\"$\\frac{2}{r}\\ \\frac{dr}{dz}$\")\n",
    "plot.plot(x2, z_, label=inv_f_dfdz__label('w'))\n",
    "plot.plot(x3, z_, label=\"-\" + inv_f_dfdz__label('T_c'))\n",
    "plot.plot(x4, z_, label=r\"$\\frac{-g}{R_d T_c}$\")\n",
    "\n",
    "mu_model = 0.2/(0.5*(r[1:] + r[:-1]))\n",
    "plot.plot(mu_model, z_, label='expected', marker='x')\n",
    "plot.plot(x1 + x2 + x3 + x4, z_, label='calculated')\n",
    "\n",
    "mu_calculated_cont = x1 + x2 + x3 + x4\n",
    "\n",
    "plot.grid(True)\n",
    "plot.legend(loc='lower left')\n",
    "plot.gca().axvline(x=0, color='k', linestyle='--')\n",
    "leg = plot.gca().get_legend()\n",
    "ltext  = leg.get_texts()\n",
    "plot.setp(ltext, fontsize='xx-large')\n",
    "plot.xlim(-0.002, 0.002)\n",
    "\n",
    "plot.subplot(122)\n",
    "plot.plot(r_, z_)\n",
    "\n",
    "plot.suptitle('Contributions to entrainment term in continuity equation')"
   ]
  },
  {
   "cell_type": "code",
   "execution_count": null,
   "metadata": {
    "collapsed": false
   },
   "outputs": [],
   "source": [
    "plot.figure(figsize=(5,5))\n",
    "plot.plot(x1 + x2 + x3 + x4, z_, label='calculated')\n",
    "mu_model = 0.2/(0.5*(r[1:] + r[:-1]))\n",
    "plot.plot(mu_model, z_, label='expected', marker='x')\n",
    "plot.legend()\n",
    "plot.xlim(-np.max(mu_model), 1.5*np.max(mu_model))\n",
    "plot.grid(True)"
   ]
  },
  {
   "cell_type": "markdown",
   "metadata": {},
   "source": [
    "# momentum equation"
   ]
  },
  {
   "cell_type": "code",
   "execution_count": null,
   "metadata": {
    "collapsed": false
   },
   "outputs": [],
   "source": [
    "dfdz = lambda f, z: (f[1:]-f[:-1])/(z[1:]-z[:-1])\n",
    "center = lambda v: 0.5*(v[1:] + v[:-1])\n",
    "\n",
    "\n",
    "z_ = center(z)\n",
    "w_ = center(w)\n",
    "r_ = center(r)\n",
    "\n",
    "Te = ambient_stratification.temp(z)\n",
    "gamma = p1.cloud_model.gamma\n",
    "D = p1.cloud_model.D\n",
    "\n",
    "x1 = -1./w_*dfdz(w, z)\n",
    "x2 = center(g/(1.+gamma)*(Tc-Te)/Te)/w_**2.\n",
    "x3 = -center(D/r)"
   ]
  },
  {
   "cell_type": "code",
   "execution_count": null,
   "metadata": {
    "collapsed": false
   },
   "outputs": [],
   "source": [
    "plot.figure(figsize=(18,10))\n",
    "plot.subplot(121)\n",
    "plot.plot(x1, z_, label=r'$w\\ dw/dz$')\n",
    "plot.plot(x2, z_, label='bouy')\n",
    "plot.plot(x3, z_, label='drag')\n",
    "\n",
    "plot.legend()\n",
    "plot.grid(True)\n",
    "\n",
    "mu_calculated = x1 + x2 + x3\n",
    "mu_model = 0.2/r_\n",
    "\n",
    "plot.subplot(122)\n",
    "plot.plot(mu_calculated, z_, label='calculated')\n",
    "plot.plot(mu_model, z_, label='model')\n",
    "plot.xlim(-5*np.max(mu_model), 5*np.max(mu_model))\n",
    "plot.legend()\n",
    "plot.grid(True)"
   ]
  },
  {
   "cell_type": "code",
   "execution_count": null,
   "metadata": {
    "collapsed": false
   },
   "outputs": [],
   "source": [
    "plot.figure(figsize=(10,10))\n",
    "plot.plot(1./r_, mu_calculated, label='momentum')\n",
    "plot.plot(1./r_, mu_model, label='model')\n",
    "plot.plot(1./r_, mu_calculated_cont, label='continuity equation')\n",
    "r_2 = np.linspace(100., 1.0e4)\n",
    "plot.plot(1.0/r_2, 0.2/r_2, linestyle='--', color='black', label='0.2/r')\n",
    "plot.legend()\n",
    "plot.xlabel('1./r')\n",
    "plot.ylabel(r'$\\mu$')\n",
    "#plot.xlim(0, 0.004)\n",
    "plot.grid(True)\n",
    "plot.ylim(0, 0.002)"
   ]
  },
  {
   "cell_type": "code",
   "execution_count": null,
   "metadata": {
    "collapsed": true
   },
   "outputs": [],
   "source": []
  }
 ],
 "metadata": {
  "kernelspec": {
   "display_name": "Python 2",
   "language": "python",
   "name": "python2"
  },
  "language_info": {
   "codemirror_mode": {
    "name": "ipython",
    "version": 2
   },
   "file_extension": ".py",
   "mimetype": "text/x-python",
   "name": "python",
   "nbconvert_exporter": "python",
   "pygments_lexer": "ipython2",
   "version": "2.7.3"
  }
 },
 "nbformat": 4,
 "nbformat_minor": 0
}
